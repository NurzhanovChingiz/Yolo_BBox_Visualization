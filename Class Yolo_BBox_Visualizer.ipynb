{
 "cells": [
  {
   "cell_type": "code",
   "execution_count": 1,
   "id": "be7c05d1",
   "metadata": {
    "ExecuteTime": {
     "end_time": "2023-02-14T08:39:37.370529Z",
     "start_time": "2023-02-14T08:39:37.147603Z"
    }
   },
   "outputs": [],
   "source": [
    "import numpy as np\n",
    "import cv2\n",
    "import pandas as pd\n",
    "\n",
    "np.random.seed(42)\n",
    "import numpy as np\n",
    "import cv2\n",
    "import pandas as pd\n",
    "import imghdr\n",
    "\n",
    "np.random.seed(42)\n",
    "class Yolo_BBox_Visualizer:\n",
    "\n",
    "    def __init__(self):\n",
    "        pass\n",
    "\n",
    "    def read_txt(self, path_to_txt):\n",
    "        df = pd.read_csv(f\"{path_to_txt}\",\n",
    "                         sep=\" \",\n",
    "                         names=[\"label\", \"x\", \"y\", \"w\", \"h\"])\n",
    "        return df\n",
    "\n",
    "    def read_classes(self, classes_file_path, random=True):\n",
    "        with open(classes_file_path, \"r\") as f:\n",
    "            self.classes_list = f.read().splitlines()\n",
    "        # Random Colors list\n",
    "        if random:\n",
    "            self.color_list = np.random.uniform(\n",
    "                low=0,\n",
    "                high=255,\n",
    "                size=(len(self.classes_list), 3)\n",
    "                )\n",
    "        # Green color only\n",
    "        else:\n",
    "            classes = np.zeros(len(self.classes_list))\n",
    "            self.color_list = [(0,255,0) for i in classes]\n",
    "\n",
    "\n",
    "    def convert(self, size, x, y, w, h):\n",
    "        \"\"\"\n",
    "        From https://github.com/adi1999/yolo-bbox-visualizer/blob/master/main.py\n",
    "        Convert bounding box coordinates\n",
    "        size: tuple representing the width and height of an image\n",
    "        x: x-coordinate of the center of a bounding box\n",
    "        y: y-coordinate of the center of a bounding box\n",
    "        w: width of the bounding box in fractional representation\n",
    "        h: height of the bounding box\n",
    "        return \n",
    "        \"\"\"\n",
    "        box = np.zeros(4)\n",
    "        dw = 1. / size[0]\n",
    "        dh = 1. / size[1]\n",
    "        x = x / dw\n",
    "        w = w / dw\n",
    "        y = y / dh\n",
    "        h = h / dh\n",
    "        box[0] = x - (w / 2.0)\n",
    "        box[1] = x + (w / 2.0)\n",
    "        box[2] = y - (h / 2.0)\n",
    "        box[3] = y + (h / 2.0)\n",
    "\n",
    "        return (box)\n",
    "\n",
    "    def draw_bbox(self, image, df):\n",
    "        class_color = self.color_list\n",
    "        for i, row in df.iterrows():\n",
    "            \n",
    "            x, y, w, h =row['x'], row['y'], row['w'], row['h']\n",
    "            img_h, img_w = image.shape[:2]\n",
    "            bb = self.convert((img_w, img_h), x, y, w, h)\n",
    "            cv2.rectangle(image, (int(round(bb[0])), int(round(bb[2]))),\n",
    "                          (int(round(bb[1])), int(round(bb[3]))), class_color[int(row[\"label\"])],\n",
    "                          1)\n",
    "        return image\n",
    "\n",
    "    def draw_image(self, image_path, path_to_txt, img_name = \"Image.jpg\"):\n",
    "        image = cv2.imread(image_path)\n",
    "        bbox_image = self.draw_bbox(image, self.read_txt(path_to_txt))\n",
    "\n",
    "        if image is None:\n",
    "            print(\"Error: Failed to read image from file\")\n",
    "            return\n",
    "        try:\n",
    "            cv2.imwrite(img_name, bbox_image)\n",
    "            cv2.imshow(\"Result\", bbox_image)\n",
    "            cv2.waitKey(0)\n",
    "\n",
    "            cv2.destroyAllWindows()\n",
    "        except:\n",
    "            print(\"Error\")\n",
    "            "
   ]
  },
  {
   "cell_type": "code",
   "execution_count": 2,
   "id": "f88f1728",
   "metadata": {
    "ExecuteTime": {
     "end_time": "2023-02-14T08:39:37.372918Z",
     "start_time": "2023-02-14T08:39:37.371212Z"
    }
   },
   "outputs": [],
   "source": [
    "img_path = 'img.jpg'\n",
    "label_path ='label.txt'"
   ]
  },
  {
   "cell_type": "code",
   "execution_count": 3,
   "id": "e0be3a44",
   "metadata": {
    "ExecuteTime": {
     "end_time": "2023-02-14T08:39:38.908735Z",
     "start_time": "2023-02-14T08:39:37.373788Z"
    }
   },
   "outputs": [],
   "source": [
    "class_file = \"class.names\"\n",
    "\n",
    "est = Yolo_BBox_Visualizer()\n",
    "est.read_classes(class_file, random=True)\n",
    "est.draw_image(img_path, label_path)"
   ]
  },
  {
   "cell_type": "code",
   "execution_count": null,
   "id": "00a00d42",
   "metadata": {},
   "outputs": [],
   "source": []
  }
 ],
 "metadata": {
  "hide_input": false,
  "kernelspec": {
   "display_name": "Python 3 (ipykernel)",
   "language": "python",
   "name": "python3"
  },
  "language_info": {
   "codemirror_mode": {
    "name": "ipython",
    "version": 3
   },
   "file_extension": ".py",
   "mimetype": "text/x-python",
   "name": "python",
   "nbconvert_exporter": "python",
   "pygments_lexer": "ipython3",
   "version": "3.10.8"
  },
  "toc": {
   "base_numbering": 1,
   "nav_menu": {},
   "number_sections": true,
   "sideBar": true,
   "skip_h1_title": false,
   "title_cell": "Table of Contents",
   "title_sidebar": "Contents",
   "toc_cell": false,
   "toc_position": {},
   "toc_section_display": true,
   "toc_window_display": false
  }
 },
 "nbformat": 4,
 "nbformat_minor": 5
}
